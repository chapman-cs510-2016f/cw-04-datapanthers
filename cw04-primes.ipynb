{
 "cells": [
  {
   "cell_type": "markdown",
   "metadata": {
    "collapsed": false
   },
   "source": [
    "# Classwork 4 \n",
    "\n",
    "### _Simrath Ratra, Afnan Alqahtani, Andrew Nguyen_: "
   ]
  },
  {
   "cell_type": "markdown",
   "metadata": {},
   "source": [
    "# The Sieve of Eratosthenes\n",
    "\n",
    "#### **The goal of the algorithm:** \n",
    "It is ancient algorithm for finding all prime numbers up to any given limit! \n",
    "\n",
    "\n",
    "#### **How it works:**\n",
    "It does so by iteratively marking as composite the multiples of each prime, starting with the multiples of 2.\n"
   ]
  },
  {
   "cell_type": "markdown",
   "metadata": {},
   "source": [
    "#### **Describe your design decision:**\n",
    "The first function calls the for loop and cycles through as many times as need to. The generator generates all the prime numbers. We used the generator because we want it to run infinetly. It also is easier to edit because then we know where exactly the errors are coming from. It is also easier to read because you know exactly what function is doing what.\n",
    "\n",
    "\n",
    "#### **Which data structure(s) did you use and why?:** \n",
    "We chose to do a list because we can add or delete to a list. Whereas a tuple would be more permanent. \n",
    "\n"
   ]
  },
  {
   "cell_type": "code",
   "execution_count": 2,
   "metadata": {
    "collapsed": false
   },
   "outputs": [
    {
     "data": {
      "text/plain": [
       "[2, 3]"
      ]
     },
     "execution_count": 2,
     "metadata": {},
     "output_type": "execute_result"
    }
   ],
   "source": [
    "import primes\n",
    "primes.e(5)"
   ]
  }
 ],
 "metadata": {
  "kernelspec": {
   "display_name": "Python 3",
   "language": "python",
   "name": "python3"
  },
  "language_info": {
   "codemirror_mode": {
    "name": "ipython",
    "version": 3
   },
   "file_extension": ".py",
   "mimetype": "text/x-python",
   "name": "python",
   "nbconvert_exporter": "python",
   "pygments_lexer": "ipython3",
   "version": "3.4.3+"
  }
 },
 "nbformat": 4,
 "nbformat_minor": 0
}
