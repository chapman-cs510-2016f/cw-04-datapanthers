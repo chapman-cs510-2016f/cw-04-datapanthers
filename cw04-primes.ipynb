{
 "cells": [
  {
   "cell_type": "markdown",
   "metadata": {
    "collapsed": false
   },
   "source": [
    "# Classwork 4 \n",
    "\n",
    "### _Simrath Ratra, Afnan Alqahtani, Andrew Nguyen_: "
   ]
  },
  {
   "cell_type": "markdown",
   "metadata": {},
   "source": [
    "# The Sieve of Eratosthenes\n",
    "\n",
    "#### **The goal of the algorithm and how it works** \n",
    "It is an ancient algorithm for finding all prime numbers up to any given limit. We start by producing a list of all the numbers lower than the given value starting at 2 in a list, then we traverse through the list one at a time, removing any number if it is divisible by another number within the list. We are then left with only prime numbers remaining in our list, lower than our given value. "
   ]
  },
  {
   "cell_type": "code",
   "execution_count": null,
   "metadata": {
    "collapsed": true
   },
   "outputs": [],
   "source": []
  },
  {
   "cell_type": "markdown",
   "metadata": {},
   "source": [
    "#### **Describe your design decision:**\n",
    "We have two different functions in our module which finds the prime list in two different ways.\n",
    "    eratosthenes(n) - uses the sieve of eratosthenes algorithm with nested while loops\n",
    "    eratosthenes2(n) - wraps around a generator function to calculate the prime numbers\n",
    "\n",
    "The first function calls the for loop and cycles through as many times as need to. This is easy for readers to see as everything is done in one function. \n",
    "The second function uese a generator function. The generator can run infinitely and we only need to call it as many times as we need. It is also easy to edit and find errors as the work is split in two different functions, and is also easy for readers as each function has a specific task to perform. \n",
    "\n",
    "\n",
    "#### **Which data structure(s) did you use and why?:** \n",
    "We chose to use a list to store our numbers because we can add or delete to a list easiliy. Whereas a tuple, for example, would be more permanent and we would be unable to remove numbers from it. We also did not used a dictonary as we felt the list would store exacly what we needed and a dictionary also has keys for it's variables, which we decided was unnecessary for this particular module.\n",
    "\n",
    "### Code:"
   ]
  },
  {
   "cell_type": "code",
   "execution_count": 1,
   "metadata": {
    "collapsed": false
   },
   "outputs": [
    {
     "name": "stdout",
     "output_type": "stream",
     "text": [
      "[2, 3]\n",
      "[2, 3]\n"
     ]
    }
   ],
   "source": [
    "import primes\n",
    "print(primes.eratosthenes(5))\n",
    "\n",
    "print(primes.eratosthenes2(5))"
   ]
  },
  {
   "cell_type": "markdown",
   "metadata": {},
   "source": [
    "This shows that both of our functions: eratosthenes(n) and eratosthenes2(n) are both able to produce the correct output. ",
    "### INSTRUCTOR COMMENTS",
    "Generally, if you want to show that a sequence is correct, you need more than 2 elements!  It is more convincing to show something nontrivial."
   ]
  },
  {
   "cell_type": "code",
   "execution_count": null,
   "metadata": {
    "collapsed": true
   },
   "outputs": [],
   "source": []
  }
 ],
 "metadata": {
  "kernelspec": {
   "display_name": "Python 3",
   "language": "python",
   "name": "python3"
  },
  "language_info": {
   "codemirror_mode": {
    "name": "ipython",
    "version": 3
   },
   "file_extension": ".py",
   "mimetype": "text/x-python",
   "name": "python",
   "nbconvert_exporter": "python",
   "pygments_lexer": "ipython3",
   "version": "3.4.3+"
  }
 },
 "nbformat": 4,
 "nbformat_minor": 0
}
